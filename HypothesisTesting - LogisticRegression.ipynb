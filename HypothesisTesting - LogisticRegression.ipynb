{
 "cells": [
  {
   "cell_type": "code",
   "execution_count": 5,
   "metadata": {},
   "outputs": [],
   "source": [
    "%matplotlib inline\n",
    "\n",
    "import numpy as np\n",
    "import pandas as pd\n",
    "import seaborn as sns\n",
    "import matplotlib.pyplot as plt\n",
    "import statsmodels.api as ols\n",
    "\n",
    "plt.style.use('seaborn') # pretty matplotlib plots\n",
    "\n",
    "plt.rc('font', size=14)\n",
    "plt.rc('figure', titlesize=18)\n",
    "plt.rc('axes', labelsize=15)\n",
    "plt.rc('axes', titlesize=18)"
   ]
  },
  {
   "cell_type": "code",
   "execution_count": 2,
   "metadata": {},
   "outputs": [
    {
     "data": {
      "text/html": [
       "<div>\n",
       "<style scoped>\n",
       "    .dataframe tbody tr th:only-of-type {\n",
       "        vertical-align: middle;\n",
       "    }\n",
       "\n",
       "    .dataframe tbody tr th {\n",
       "        vertical-align: top;\n",
       "    }\n",
       "\n",
       "    .dataframe thead th {\n",
       "        text-align: right;\n",
       "    }\n",
       "</style>\n",
       "<table border=\"1\" class=\"dataframe\">\n",
       "  <thead>\n",
       "    <tr style=\"text-align: right;\">\n",
       "      <th></th>\n",
       "      <th>Unnamed: 0</th>\n",
       "      <th>VETERAN3</th>\n",
       "      <th>ALCDAY5</th>\n",
       "      <th>SLEPTIM1</th>\n",
       "      <th>ASTHMA3</th>\n",
       "      <th>X_AGE_G</th>\n",
       "      <th>SMOKE100</th>\n",
       "      <th>SMOKDAY2</th>\n",
       "      <th>SEX</th>\n",
       "      <th>X_HISPANC</th>\n",
       "      <th>...</th>\n",
       "      <th>INC4</th>\n",
       "      <th>INC5</th>\n",
       "      <th>INC6</th>\n",
       "      <th>INC7</th>\n",
       "      <th>BMICAT</th>\n",
       "      <th>UNDWT</th>\n",
       "      <th>OVWT</th>\n",
       "      <th>OBESE</th>\n",
       "      <th>EXERANY3</th>\n",
       "      <th>NOEXER</th>\n",
       "    </tr>\n",
       "  </thead>\n",
       "  <tbody>\n",
       "    <tr>\n",
       "      <th>0</th>\n",
       "      <td>6</td>\n",
       "      <td>1</td>\n",
       "      <td>888</td>\n",
       "      <td>7</td>\n",
       "      <td>1</td>\n",
       "      <td>6</td>\n",
       "      <td>2.0</td>\n",
       "      <td>NaN</td>\n",
       "      <td>1</td>\n",
       "      <td>2</td>\n",
       "      <td>...</td>\n",
       "      <td>0</td>\n",
       "      <td>0</td>\n",
       "      <td>1</td>\n",
       "      <td>0</td>\n",
       "      <td>4</td>\n",
       "      <td>0</td>\n",
       "      <td>0</td>\n",
       "      <td>1</td>\n",
       "      <td>1</td>\n",
       "      <td>0</td>\n",
       "    </tr>\n",
       "    <tr>\n",
       "      <th>1</th>\n",
       "      <td>10</td>\n",
       "      <td>1</td>\n",
       "      <td>203</td>\n",
       "      <td>8</td>\n",
       "      <td>2</td>\n",
       "      <td>3</td>\n",
       "      <td>1.0</td>\n",
       "      <td>2.0</td>\n",
       "      <td>1</td>\n",
       "      <td>2</td>\n",
       "      <td>...</td>\n",
       "      <td>0</td>\n",
       "      <td>0</td>\n",
       "      <td>0</td>\n",
       "      <td>1</td>\n",
       "      <td>3</td>\n",
       "      <td>0</td>\n",
       "      <td>1</td>\n",
       "      <td>0</td>\n",
       "      <td>1</td>\n",
       "      <td>0</td>\n",
       "    </tr>\n",
       "    <tr>\n",
       "      <th>2</th>\n",
       "      <td>15</td>\n",
       "      <td>1</td>\n",
       "      <td>888</td>\n",
       "      <td>8</td>\n",
       "      <td>2</td>\n",
       "      <td>6</td>\n",
       "      <td>1.0</td>\n",
       "      <td>3.0</td>\n",
       "      <td>1</td>\n",
       "      <td>2</td>\n",
       "      <td>...</td>\n",
       "      <td>0</td>\n",
       "      <td>1</td>\n",
       "      <td>0</td>\n",
       "      <td>0</td>\n",
       "      <td>3</td>\n",
       "      <td>0</td>\n",
       "      <td>1</td>\n",
       "      <td>0</td>\n",
       "      <td>1</td>\n",
       "      <td>0</td>\n",
       "    </tr>\n",
       "  </tbody>\n",
       "</table>\n",
       "<p>3 rows × 62 columns</p>\n",
       "</div>"
      ],
      "text/plain": [
       "   Unnamed: 0  VETERAN3  ALCDAY5  SLEPTIM1  ASTHMA3  X_AGE_G  SMOKE100  \\\n",
       "0           6         1      888         7        1        6       2.0   \n",
       "1          10         1      203         8        2        3       1.0   \n",
       "2          15         1      888         8        2        6       1.0   \n",
       "\n",
       "   SMOKDAY2  SEX  X_HISPANC   ...    INC4  INC5  INC6  INC7  BMICAT  UNDWT  \\\n",
       "0       NaN    1          2   ...       0     0     1     0       4      0   \n",
       "1       2.0    1          2   ...       0     0     0     1       3      0   \n",
       "2       3.0    1          2   ...       0     1     0     0       3      0   \n",
       "\n",
       "   OVWT  OBESE  EXERANY3  NOEXER  \n",
       "0     0      1         1       0  \n",
       "1     1      0         1       0  \n",
       "2     1      0         1       0  \n",
       "\n",
       "[3 rows x 62 columns]"
      ]
     },
     "execution_count": 2,
     "metadata": {},
     "output_type": "execute_result"
    }
   ],
   "source": [
    "df = pd.read_csv('analytic.csv')\n",
    "df.head(3)"
   ]
  },
  {
   "cell_type": "code",
   "execution_count": 8,
   "metadata": {
    "collapsed": true
   },
   "outputs": [],
   "source": [
    "df['intercept'] = 1.0"
   ]
  },
  {
   "cell_type": "markdown",
   "metadata": {},
   "source": [
    "## Hypothesis"
   ]
  },
  {
   "cell_type": "markdown",
   "metadata": {},
   "source": [
    "_**In Veterans, drinking alcohol is associated with Asthma**_"
   ]
  },
  {
   "cell_type": "markdown",
   "metadata": {},
   "source": [
    "<img src=\"img/LR-Reporting.png\" width=\"600\"/>"
   ]
  },
  {
   "cell_type": "code",
   "execution_count": 9,
   "metadata": {},
   "outputs": [
    {
     "name": "stdout",
     "output_type": "stream",
     "text": [
      "Optimization terminated successfully.\n",
      "         Current function value: 0.306438\n",
      "         Iterations 6\n"
     ]
    },
    {
     "data": {
      "text/html": [
       "<table class=\"simpletable\">\n",
       "<caption>Logit Regression Results</caption>\n",
       "<tr>\n",
       "  <th>Dep. Variable:</th>      <td>ASTHMA4</td>     <th>  No. Observations:  </th>  <td> 58131</td>  \n",
       "</tr>\n",
       "<tr>\n",
       "  <th>Model:</th>               <td>Logit</td>      <th>  Df Residuals:      </th>  <td> 58128</td>  \n",
       "</tr>\n",
       "<tr>\n",
       "  <th>Method:</th>               <td>MLE</td>       <th>  Df Model:          </th>  <td>     2</td>  \n",
       "</tr>\n",
       "<tr>\n",
       "  <th>Date:</th>          <td>Tue, 12 Mar 2019</td> <th>  Pseudo R-squ.:     </th> <td>0.001641</td> \n",
       "</tr>\n",
       "<tr>\n",
       "  <th>Time:</th>              <td>18:37:20</td>     <th>  Log-Likelihood:    </th> <td> -17814.</td> \n",
       "</tr>\n",
       "<tr>\n",
       "  <th>converged:</th>           <td>True</td>       <th>  LL-Null:           </th> <td> -17843.</td> \n",
       "</tr>\n",
       "<tr>\n",
       "  <th> </th>                      <td> </td>        <th>  LLR p-value:       </th> <td>1.919e-13</td>\n",
       "</tr>\n",
       "</table>\n",
       "<table class=\"simpletable\">\n",
       "<tr>\n",
       "       <td></td>         <th>coef</th>     <th>std err</th>      <th>z</th>      <th>P>|z|</th>  <th>[0.025</th>    <th>0.975]</th>  \n",
       "</tr>\n",
       "<tr>\n",
       "  <th>intercept</th>  <td>   -2.3998</td> <td>    0.038</td> <td>  -63.968</td> <td> 0.000</td> <td>   -2.473</td> <td>   -2.326</td>\n",
       "</tr>\n",
       "<tr>\n",
       "  <th>DRKMONTHLY</th> <td>    0.0075</td> <td>    0.045</td> <td>    0.169</td> <td> 0.865</td> <td>   -0.080</td> <td>    0.095</td>\n",
       "</tr>\n",
       "<tr>\n",
       "  <th>DRKWEEKLY</th>  <td>    0.2253</td> <td>    0.043</td> <td>    5.275</td> <td> 0.000</td> <td>    0.142</td> <td>    0.309</td>\n",
       "</tr>\n",
       "</table>"
      ],
      "text/plain": [
       "<class 'statsmodels.iolib.summary.Summary'>\n",
       "\"\"\"\n",
       "                           Logit Regression Results                           \n",
       "==============================================================================\n",
       "Dep. Variable:                ASTHMA4   No. Observations:                58131\n",
       "Model:                          Logit   Df Residuals:                    58128\n",
       "Method:                           MLE   Df Model:                            2\n",
       "Date:                Tue, 12 Mar 2019   Pseudo R-squ.:                0.001641\n",
       "Time:                        18:37:20   Log-Likelihood:                -17814.\n",
       "converged:                       True   LL-Null:                       -17843.\n",
       "                                        LLR p-value:                 1.919e-13\n",
       "==============================================================================\n",
       "                 coef    std err          z      P>|z|      [0.025      0.975]\n",
       "------------------------------------------------------------------------------\n",
       "intercept     -2.3998      0.038    -63.968      0.000      -2.473      -2.326\n",
       "DRKMONTHLY     0.0075      0.045      0.169      0.865      -0.080       0.095\n",
       "DRKWEEKLY      0.2253      0.043      5.275      0.000       0.142       0.309\n",
       "==============================================================================\n",
       "\"\"\""
      ]
     },
     "execution_count": 9,
     "metadata": {},
     "output_type": "execute_result"
    }
   ],
   "source": [
    "model1 = ols.Logit(df.ASTHMA4, df[['intercept','DRKMONTHLY', 'DRKWEEKLY']])\n",
    "result1 = model1.fit()\n",
    "result1.summary()"
   ]
  },
  {
   "cell_type": "code",
   "execution_count": 11,
   "metadata": {},
   "outputs": [
    {
     "name": "stdout",
     "output_type": "stream",
     "text": [
      "                2.5%     97.5%        OR\n",
      "intercept   0.084306  0.097662  0.090739\n",
      "DRKMONTHLY  0.923368  1.099460  1.007575\n",
      "DRKWEEKLY   1.152108  1.362093  1.252708\n"
     ]
    }
   ],
   "source": [
    "# odds ratios and 95% CI\n",
    "params = result1.params\n",
    "conf = result1.conf_int()\n",
    "conf['OR'] = params\n",
    "conf.columns = ['2.5%', '97.5%', 'OR']\n",
    "print np.exp(conf)"
   ]
  },
  {
   "cell_type": "markdown",
   "metadata": {},
   "source": [
    "DRKWEEKLY is significant. But, DRKMONTHLY is not"
   ]
  },
  {
   "cell_type": "markdown",
   "metadata": {},
   "source": [
    "Use similar procedure as that of linear regression to stepwise add and remove variables. Refer Logistic Model Metadata_Complete.xlsx for all steps towards final model."
   ]
  }
 ],
 "metadata": {
  "kernelspec": {
   "display_name": "Python 2",
   "language": "python",
   "name": "python2"
  },
  "language_info": {
   "codemirror_mode": {
    "name": "ipython",
    "version": 2
   },
   "file_extension": ".py",
   "mimetype": "text/x-python",
   "name": "python",
   "nbconvert_exporter": "python",
   "pygments_lexer": "ipython2",
   "version": "2.7.14"
  }
 },
 "nbformat": 4,
 "nbformat_minor": 2
}
